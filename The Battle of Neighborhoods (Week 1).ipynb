{
    "cells": [
        {
            "metadata": {
                "collapsed": true
            },
            "cell_type": "markdown",
            "source": "## The Battle of Neighborhoods (Week 1)"
        },
        {
            "metadata": {},
            "cell_type": "markdown",
            "source": "**Background discussion to the problem:**"
        },
        {
            "metadata": {},
            "cell_type": "markdown",
            "source": "- A small business owner wants to open up a pizza delivery service in a busy multicultural city.\n<br>\nWe will look at the Foursquare API data to determine which city would be most beneficial to open up this business.\n<br><br>\n- We will only search pizza restaurants within 5 mile radius of each cities most dense pizza restaurant areas.\n<br>\nTherefore, we will have to find those dense areas.\n<br><br>\n- By querying the number of pizza restaurants in 5 major cities, and looking at the quality of service of each of those restaurants, we can justify which city will be best to open shop.\n<br><br>\n- Let's work with these 5 cities: **New York**, **Philadelphia**, **Boston**, **Baltimore**, and **Pittsburgh**."
        }
    ],
    "metadata": {
        "kernelspec": {
            "name": "python3",
            "display_name": "Python 3.7",
            "language": "python"
        },
        "language_info": {
            "name": "python",
            "version": "3.7.9",
            "mimetype": "text/x-python",
            "codemirror_mode": {
                "name": "ipython",
                "version": 3
            },
            "pygments_lexer": "ipython3",
            "nbconvert_exporter": "python",
            "file_extension": ".py"
        }
    },
    "nbformat": 4,
    "nbformat_minor": 1
}