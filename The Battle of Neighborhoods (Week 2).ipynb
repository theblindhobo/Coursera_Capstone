{
    "cells": [
        {
            "metadata": {
                "collapsed": true
            },
            "cell_type": "markdown",
            "source": "## The Battle of Neighborhoods (Week 2)"
        },
        {
            "metadata": {},
            "cell_type": "markdown",
            "source": "**Exploring the data:**"
        },
        {
            "metadata": {},
            "cell_type": "code",
            "source": "import pandas as pd\nimport numpy as np\nimport requests",
            "execution_count": 1,
            "outputs": []
        },
        {
            "metadata": {},
            "cell_type": "markdown",
            "source": "**Finding center of cities:**"
        },
        {
            "metadata": {},
            "cell_type": "code",
            "source": "# ! pip install folium==0.5.0",
            "execution_count": 2,
            "outputs": []
        },
        {
            "metadata": {},
            "cell_type": "code",
            "source": "from geopy.geocoders import Nominatim\nimport folium",
            "execution_count": 3,
            "outputs": []
        },
        {
            "metadata": {},
            "cell_type": "code",
            "source": "cities_list = []\n\ncities = ['New York, NY', 'Philadelphia, PA', 'Boston, MA', 'Baltimore, MD', 'Pittsburgh, PA']\n\nfor city in cities:\n    geolocator = Nominatim(user_agent=\"foursquare_agent\")\n    location = geolocator.geocode(city)\n    latitude = location.latitude\n    longitude = location.longitude\n    cities_list.append([city.split(',')[0].upper(),[latitude, longitude]])\nprint(cities_list)",
            "execution_count": 4,
            "outputs": [
                {
                    "output_type": "stream",
                    "text": "[['NEW YORK', [40.7127281, -74.0060152]], ['PHILADELPHIA', [39.9527237, -75.1635262]], ['BOSTON', [42.3602534, -71.0582912]], ['BALTIMORE', [39.2908816, -76.610759]], ['PITTSBURGH', [40.4416941, -79.9900861]]]\n",
                    "name": "stdout"
                }
            ]
        },
        {
            "metadata": {},
            "cell_type": "markdown",
            "source": "**Setting up variables for query:**"
        },
        {
            "metadata": {},
            "cell_type": "code",
            "source": "CLIENT_ID = 'WUPUAH5PA54ZBTSDADZUGWT0ROUITGR5S1ZPV3EIV1DYIVP3'\nCLIENT_SECRET = 'F0VENJWDIYB3JQYW3DOON402F0DK34O2MSR42145SCXS0UYM'\nVERSION = '20201101'\nLIMIT = 30\nRADIUS = 8046 # meters\nSEARCH_QUERY = 'Pizza'",
            "execution_count": 5,
            "outputs": []
        },
        {
            "metadata": {},
            "cell_type": "code",
            "source": "for x in cities_list:\n    LAT = x[1][0]\n    LNG = x[1][1]\n#     print(LAT,LNG)",
            "execution_count": 6,
            "outputs": []
        },
        {
            "metadata": {},
            "cell_type": "code",
            "source": "url = 'https://api.foursquare.com/v2/venues/search?client_id={}&client_secret={}&v={}&ll={},{}&query={}&radius={}&limit={}'.format(CLIENT_ID,CLIENT_SECRET,VERSION,LAT,LNG,SEARCH_QUERY,RADIUS,LIMIT)",
            "execution_count": 18,
            "outputs": []
        },
        {
            "metadata": {},
            "cell_type": "code",
            "source": "results = requests.get(url).json()",
            "execution_count": 22,
            "outputs": []
        },
        {
            "metadata": {},
            "cell_type": "code",
            "source": "venues = results['response']['venues']\ndataframe = pd.json_normalize(venues)",
            "execution_count": 23,
            "outputs": []
        },
        {
            "metadata": {},
            "cell_type": "markdown",
            "source": "**Grabbing data from Foursquare API:**"
        },
        {
            "metadata": {},
            "cell_type": "code",
            "source": "columns = ['id', 'name', 'categories', 'referralId', 'hasPerk', 'location.address', 'location.lat', 'location.lng', 'location.labeledLatLngs', 'location.distance', 'location.postalCode', 'location.cc', 'location.city', 'location.state', 'location.country', 'location.formattedAddress', 'delivery.id', 'delivery.url', 'delivery.provider.name', 'delivery.provider.icon.prefix', 'delivery.provider.icon.sizes', 'delivery.provider.icon.name', 'venuePage.id', 'location.neighborhood', 'location.crossStreet']\ndf = pd.DataFrame(columns=columns)\nfor x in cities_list:\n    LAT = x[1][0]\n    LNG = x[1][1]\n    url = 'https://api.foursquare.com/v2/venues/search?client_id={}&client_secret={}&v={}&ll={},{}&query={}&radius={}&limit={}'.format(CLIENT_ID,CLIENT_SECRET,VERSION,LAT,LNG,SEARCH_QUERY,RADIUS,LIMIT)\n    results = requests.get(url).json()\n    venues = results['response']['venues']\n    df2 = pd.json_normalize(venues)\n    df = df.append(df2, ignore_index=True)",
            "execution_count": 21,
            "outputs": []
        },
        {
            "metadata": {},
            "cell_type": "code",
            "source": "df.head(3)",
            "execution_count": 24,
            "outputs": [
                {
                    "output_type": "execute_result",
                    "execution_count": 24,
                    "data": {
                        "text/plain": "                         id                       name  \\\n0  4f045eeb00399761c77301e3        Prince Street Pizza   \n1  4a4560a7f964a5201aa81fe3  Harry's Italian Pizza Bar   \n2  4af216e7f964a520d0e521e3           Dona Bella Pizza   \n\n                                          categories    referralId hasPerk  \\\n0  [{'id': '4bf58dd8d48988d1ca941735', 'name': 'P...  v-1604267677   False   \n1  [{'id': '4bf58dd8d48988d110941735', 'name': 'I...  v-1604267677   False   \n2  [{'id': '4bf58dd8d48988d1ca941735', 'name': 'P...  v-1604267677   False   \n\n   location.address  location.lat  location.lng  \\\n0      27 Prince St     40.723093    -73.994527   \n1         2 Gold St     40.707634    -74.006996   \n2  154 Church Steet     40.714990    -74.007850   \n\n                             location.labeledLatLngs location.distance  ...  \\\n0  [{'label': 'display', 'lat': 40.72309326145674...              1506  ...   \n1  [{'label': 'display', 'lat': 40.7076335455641,...               573  ...   \n2  [{'label': 'display', 'lat': 40.71499001654046...               295  ...   \n\n                           location.formattedAddress delivery.id  \\\n0  [27 Prince St (btwn Mott & Elizabeth St), New ...      264357   \n1  [2 Gold St (at Maiden Ln.), New York, NY 10038...         NaN   \n2  [154 Church Steet (Chambers St), New York, NY ...       69858   \n\n                                        delivery.url delivery.provider.name  \\\n0  https://www.seamless.com/menu/prince-st-pizza-...               seamless   \n1                                                NaN                    NaN   \n2  https://www.seamless.com/menu/little-italy-piz...               seamless   \n\n              delivery.provider.icon.prefix delivery.provider.icon.sizes  \\\n0  https://fastly.4sqi.net/img/general/cap/                     [40, 50]   \n1                                       NaN                          NaN   \n2  https://fastly.4sqi.net/img/general/cap/                     [40, 50]   \n\n                delivery.provider.icon.name venuePage.id  \\\n0  /delivery_provider_seamless_20180129.png     99329256   \n1                                       NaN     77559825   \n2  /delivery_provider_seamless_20180129.png          NaN   \n\n  location.neighborhood      location.crossStreet  \n0                   NaN  btwn Mott & Elizabeth St  \n1                   NaN             at Maiden Ln.  \n2                   NaN               Chambers St  \n\n[3 rows x 25 columns]",
                        "text/html": "<div>\n<style scoped>\n    .dataframe tbody tr th:only-of-type {\n        vertical-align: middle;\n    }\n\n    .dataframe tbody tr th {\n        vertical-align: top;\n    }\n\n    .dataframe thead th {\n        text-align: right;\n    }\n</style>\n<table border=\"1\" class=\"dataframe\">\n  <thead>\n    <tr style=\"text-align: right;\">\n      <th></th>\n      <th>id</th>\n      <th>name</th>\n      <th>categories</th>\n      <th>referralId</th>\n      <th>hasPerk</th>\n      <th>location.address</th>\n      <th>location.lat</th>\n      <th>location.lng</th>\n      <th>location.labeledLatLngs</th>\n      <th>location.distance</th>\n      <th>...</th>\n      <th>location.formattedAddress</th>\n      <th>delivery.id</th>\n      <th>delivery.url</th>\n      <th>delivery.provider.name</th>\n      <th>delivery.provider.icon.prefix</th>\n      <th>delivery.provider.icon.sizes</th>\n      <th>delivery.provider.icon.name</th>\n      <th>venuePage.id</th>\n      <th>location.neighborhood</th>\n      <th>location.crossStreet</th>\n    </tr>\n  </thead>\n  <tbody>\n    <tr>\n      <th>0</th>\n      <td>4f045eeb00399761c77301e3</td>\n      <td>Prince Street Pizza</td>\n      <td>[{'id': '4bf58dd8d48988d1ca941735', 'name': 'P...</td>\n      <td>v-1604267677</td>\n      <td>False</td>\n      <td>27 Prince St</td>\n      <td>40.723093</td>\n      <td>-73.994527</td>\n      <td>[{'label': 'display', 'lat': 40.72309326145674...</td>\n      <td>1506</td>\n      <td>...</td>\n      <td>[27 Prince St (btwn Mott &amp; Elizabeth St), New ...</td>\n      <td>264357</td>\n      <td>https://www.seamless.com/menu/prince-st-pizza-...</td>\n      <td>seamless</td>\n      <td>https://fastly.4sqi.net/img/general/cap/</td>\n      <td>[40, 50]</td>\n      <td>/delivery_provider_seamless_20180129.png</td>\n      <td>99329256</td>\n      <td>NaN</td>\n      <td>btwn Mott &amp; Elizabeth St</td>\n    </tr>\n    <tr>\n      <th>1</th>\n      <td>4a4560a7f964a5201aa81fe3</td>\n      <td>Harry's Italian Pizza Bar</td>\n      <td>[{'id': '4bf58dd8d48988d110941735', 'name': 'I...</td>\n      <td>v-1604267677</td>\n      <td>False</td>\n      <td>2 Gold St</td>\n      <td>40.707634</td>\n      <td>-74.006996</td>\n      <td>[{'label': 'display', 'lat': 40.7076335455641,...</td>\n      <td>573</td>\n      <td>...</td>\n      <td>[2 Gold St (at Maiden Ln.), New York, NY 10038...</td>\n      <td>NaN</td>\n      <td>NaN</td>\n      <td>NaN</td>\n      <td>NaN</td>\n      <td>NaN</td>\n      <td>NaN</td>\n      <td>77559825</td>\n      <td>NaN</td>\n      <td>at Maiden Ln.</td>\n    </tr>\n    <tr>\n      <th>2</th>\n      <td>4af216e7f964a520d0e521e3</td>\n      <td>Dona Bella Pizza</td>\n      <td>[{'id': '4bf58dd8d48988d1ca941735', 'name': 'P...</td>\n      <td>v-1604267677</td>\n      <td>False</td>\n      <td>154 Church Steet</td>\n      <td>40.714990</td>\n      <td>-74.007850</td>\n      <td>[{'label': 'display', 'lat': 40.71499001654046...</td>\n      <td>295</td>\n      <td>...</td>\n      <td>[154 Church Steet (Chambers St), New York, NY ...</td>\n      <td>69858</td>\n      <td>https://www.seamless.com/menu/little-italy-piz...</td>\n      <td>seamless</td>\n      <td>https://fastly.4sqi.net/img/general/cap/</td>\n      <td>[40, 50]</td>\n      <td>/delivery_provider_seamless_20180129.png</td>\n      <td>NaN</td>\n      <td>NaN</td>\n      <td>Chambers St</td>\n    </tr>\n  </tbody>\n</table>\n<p>3 rows \u00d7 25 columns</p>\n</div>"
                    },
                    "metadata": {}
                }
            ]
        },
        {
            "metadata": {},
            "cell_type": "markdown",
            "source": "**Cleaning dataframe:**"
        },
        {
            "metadata": {},
            "cell_type": "code",
            "source": "# keep only columns that include venue name, and anything that is associated with location\nfiltered_columns = ['name', 'categories'] + [col for col in df.columns if col.startswith('location.')] + ['id']\ndataframe_filtered = df.loc[:, filtered_columns]\n\n# function that extracts the category of the venue\ndef get_category_type(row):\n    try:\n        categories_list = row['categories']\n    except:\n        categories_list = row['venue.categories']\n        \n    if len(categories_list) == 0:\n        return None\n    else:\n        return categories_list[0]['name']\n\n# filter the category for each row\ndataframe_filtered['categories'] = dataframe_filtered.apply(get_category_type, axis=1)\n\n# clean column names by keeping only last term\ndataframe_filtered.columns = [column.split('.')[-1] for column in dataframe_filtered.columns]",
            "execution_count": 25,
            "outputs": []
        },
        {
            "metadata": {},
            "cell_type": "code",
            "source": "dataframe_filtered",
            "execution_count": 26,
            "outputs": [
                {
                    "output_type": "execute_result",
                    "execution_count": 26,
                    "data": {
                        "text/plain": "                           name          categories            address  \\\n0           Prince Street Pizza         Pizza Place       27 Prince St   \n1     Harry's Italian Pizza Bar  Italian Restaurant          2 Gold St   \n2              Dona Bella Pizza         Pizza Place   154 Church Steet   \n3    Little Italy Gourmet Pizza         Pizza Place         11 Park Pl   \n4              Stage Door Pizza         Pizza Place        26 Vesey St   \n..                          ...                 ...                ...   \n145                 Pizza Parma         Pizza Place       823 Penn Ave   \n146              Pizza Vespucci         Pizza Place    1710 Forbes Ave   \n147                   Pizza Hut         Pizza Place        430 Wood St   \n148             brother's pizza                None        Benner pike   \n149          Papa Allen\u2019s Pizza         Pizza Place  107 Smithfield St   \n\n           lat        lng                                     labeledLatLngs  \\\n0    40.723093 -73.994527  [{'label': 'display', 'lat': 40.72309326145674...   \n1    40.707634 -74.006996  [{'label': 'display', 'lat': 40.7076335455641,...   \n2    40.714990 -74.007850  [{'label': 'display', 'lat': 40.71499001654046...   \n3    40.713044 -74.008334  [{'label': 'display', 'lat': 40.713044, 'lng':...   \n4    40.711838 -74.010189  [{'label': 'display', 'lat': 40.71183761933663...   \n..         ...        ...                                                ...   \n145  40.443886 -79.998573  [{'label': 'display', 'lat': 40.44388580322265...   \n146  40.437377 -79.982265  [{'label': 'display', 'lat': 40.43737700000000...   \n147  40.440151 -80.000542  [{'label': 'display', 'lat': 40.44015121459961...   \n148  40.440394 -79.995415  [{'label': 'display', 'lat': 40.44039429610388...   \n149  40.437496 -80.000564  [{'label': 'display', 'lat': 40.43749558533475...   \n\n    distance postalCode  cc        city state        country  \\\n0       1506      10012  US    New York    NY  United States   \n1        573      10038  US    New York    NY  United States   \n2        295      10007  US    New York    NY  United States   \n3        198      10007  US    New York    NY  United States   \n4        365      10007  US    New York    NY  United States   \n..       ...        ...  ..         ...   ...            ...   \n145      759      15222  US  Pittsburgh    PA  United States   \n146      818      15219  US  Pittsburgh    PA  United States   \n147      902      15222  US  Pittsburgh    PA  United States   \n148      474        NaN  US  Pittsburgh    PA  United States   \n149     1003      15222  US  Pittsburgh    PA  United States   \n\n                                      formattedAddress neighborhood  \\\n0    [27 Prince St (btwn Mott & Elizabeth St), New ...          NaN   \n1    [2 Gold St (at Maiden Ln.), New York, NY 10038...          NaN   \n2    [154 Church Steet (Chambers St), New York, NY ...          NaN   \n3    [11 Park Pl (Broadway and Church), New York, N...          NaN   \n4     [26 Vesey St, New York, NY 10007, United States]          NaN   \n..                                                 ...          ...   \n145  [823 Penn Ave, Pittsburgh, PA 15222, United St...          NaN   \n146  [1710 Forbes Ave, Pittsburgh, PA 15219, United...          NaN   \n147  [430 Wood St, Pittsburgh, PA 15222, United Sta...          NaN   \n148       [Benner pike, Pittsburgh, PA, United States]          NaN   \n149  [107 Smithfield St, Pittsburgh, PA 15222, Unit...          NaN   \n\n                  crossStreet                        id  \n0    btwn Mott & Elizabeth St  4f045eeb00399761c77301e3  \n1               at Maiden Ln.  4a4560a7f964a5201aa81fe3  \n2                 Chambers St  4af216e7f964a520d0e521e3  \n3         Broadway and Church  4bf6ae6c94b2a59392deadee  \n4                         NaN  52698af411d29a41c427892c  \n..                        ...                       ...  \n145                       NaN  59f206191bc7045cb0fdef99  \n146                       NaN  51796804498e66dca6f16124  \n147                       NaN  4f32500719836c91c7cb5cde  \n148                       NaN  4b2c4201f964a520c3c424e3  \n149                       NaN  5d225ca8ca49b300231b1899  \n\n[150 rows x 16 columns]",
                        "text/html": "<div>\n<style scoped>\n    .dataframe tbody tr th:only-of-type {\n        vertical-align: middle;\n    }\n\n    .dataframe tbody tr th {\n        vertical-align: top;\n    }\n\n    .dataframe thead th {\n        text-align: right;\n    }\n</style>\n<table border=\"1\" class=\"dataframe\">\n  <thead>\n    <tr style=\"text-align: right;\">\n      <th></th>\n      <th>name</th>\n      <th>categories</th>\n      <th>address</th>\n      <th>lat</th>\n      <th>lng</th>\n      <th>labeledLatLngs</th>\n      <th>distance</th>\n      <th>postalCode</th>\n      <th>cc</th>\n      <th>city</th>\n      <th>state</th>\n      <th>country</th>\n      <th>formattedAddress</th>\n      <th>neighborhood</th>\n      <th>crossStreet</th>\n      <th>id</th>\n    </tr>\n  </thead>\n  <tbody>\n    <tr>\n      <th>0</th>\n      <td>Prince Street Pizza</td>\n      <td>Pizza Place</td>\n      <td>27 Prince St</td>\n      <td>40.723093</td>\n      <td>-73.994527</td>\n      <td>[{'label': 'display', 'lat': 40.72309326145674...</td>\n      <td>1506</td>\n      <td>10012</td>\n      <td>US</td>\n      <td>New York</td>\n      <td>NY</td>\n      <td>United States</td>\n      <td>[27 Prince St (btwn Mott &amp; Elizabeth St), New ...</td>\n      <td>NaN</td>\n      <td>btwn Mott &amp; Elizabeth St</td>\n      <td>4f045eeb00399761c77301e3</td>\n    </tr>\n    <tr>\n      <th>1</th>\n      <td>Harry's Italian Pizza Bar</td>\n      <td>Italian Restaurant</td>\n      <td>2 Gold St</td>\n      <td>40.707634</td>\n      <td>-74.006996</td>\n      <td>[{'label': 'display', 'lat': 40.7076335455641,...</td>\n      <td>573</td>\n      <td>10038</td>\n      <td>US</td>\n      <td>New York</td>\n      <td>NY</td>\n      <td>United States</td>\n      <td>[2 Gold St (at Maiden Ln.), New York, NY 10038...</td>\n      <td>NaN</td>\n      <td>at Maiden Ln.</td>\n      <td>4a4560a7f964a5201aa81fe3</td>\n    </tr>\n    <tr>\n      <th>2</th>\n      <td>Dona Bella Pizza</td>\n      <td>Pizza Place</td>\n      <td>154 Church Steet</td>\n      <td>40.714990</td>\n      <td>-74.007850</td>\n      <td>[{'label': 'display', 'lat': 40.71499001654046...</td>\n      <td>295</td>\n      <td>10007</td>\n      <td>US</td>\n      <td>New York</td>\n      <td>NY</td>\n      <td>United States</td>\n      <td>[154 Church Steet (Chambers St), New York, NY ...</td>\n      <td>NaN</td>\n      <td>Chambers St</td>\n      <td>4af216e7f964a520d0e521e3</td>\n    </tr>\n    <tr>\n      <th>3</th>\n      <td>Little Italy Gourmet Pizza</td>\n      <td>Pizza Place</td>\n      <td>11 Park Pl</td>\n      <td>40.713044</td>\n      <td>-74.008334</td>\n      <td>[{'label': 'display', 'lat': 40.713044, 'lng':...</td>\n      <td>198</td>\n      <td>10007</td>\n      <td>US</td>\n      <td>New York</td>\n      <td>NY</td>\n      <td>United States</td>\n      <td>[11 Park Pl (Broadway and Church), New York, N...</td>\n      <td>NaN</td>\n      <td>Broadway and Church</td>\n      <td>4bf6ae6c94b2a59392deadee</td>\n    </tr>\n    <tr>\n      <th>4</th>\n      <td>Stage Door Pizza</td>\n      <td>Pizza Place</td>\n      <td>26 Vesey St</td>\n      <td>40.711838</td>\n      <td>-74.010189</td>\n      <td>[{'label': 'display', 'lat': 40.71183761933663...</td>\n      <td>365</td>\n      <td>10007</td>\n      <td>US</td>\n      <td>New York</td>\n      <td>NY</td>\n      <td>United States</td>\n      <td>[26 Vesey St, New York, NY 10007, United States]</td>\n      <td>NaN</td>\n      <td>NaN</td>\n      <td>52698af411d29a41c427892c</td>\n    </tr>\n    <tr>\n      <th>...</th>\n      <td>...</td>\n      <td>...</td>\n      <td>...</td>\n      <td>...</td>\n      <td>...</td>\n      <td>...</td>\n      <td>...</td>\n      <td>...</td>\n      <td>...</td>\n      <td>...</td>\n      <td>...</td>\n      <td>...</td>\n      <td>...</td>\n      <td>...</td>\n      <td>...</td>\n      <td>...</td>\n    </tr>\n    <tr>\n      <th>145</th>\n      <td>Pizza Parma</td>\n      <td>Pizza Place</td>\n      <td>823 Penn Ave</td>\n      <td>40.443886</td>\n      <td>-79.998573</td>\n      <td>[{'label': 'display', 'lat': 40.44388580322265...</td>\n      <td>759</td>\n      <td>15222</td>\n      <td>US</td>\n      <td>Pittsburgh</td>\n      <td>PA</td>\n      <td>United States</td>\n      <td>[823 Penn Ave, Pittsburgh, PA 15222, United St...</td>\n      <td>NaN</td>\n      <td>NaN</td>\n      <td>59f206191bc7045cb0fdef99</td>\n    </tr>\n    <tr>\n      <th>146</th>\n      <td>Pizza Vespucci</td>\n      <td>Pizza Place</td>\n      <td>1710 Forbes Ave</td>\n      <td>40.437377</td>\n      <td>-79.982265</td>\n      <td>[{'label': 'display', 'lat': 40.43737700000000...</td>\n      <td>818</td>\n      <td>15219</td>\n      <td>US</td>\n      <td>Pittsburgh</td>\n      <td>PA</td>\n      <td>United States</td>\n      <td>[1710 Forbes Ave, Pittsburgh, PA 15219, United...</td>\n      <td>NaN</td>\n      <td>NaN</td>\n      <td>51796804498e66dca6f16124</td>\n    </tr>\n    <tr>\n      <th>147</th>\n      <td>Pizza Hut</td>\n      <td>Pizza Place</td>\n      <td>430 Wood St</td>\n      <td>40.440151</td>\n      <td>-80.000542</td>\n      <td>[{'label': 'display', 'lat': 40.44015121459961...</td>\n      <td>902</td>\n      <td>15222</td>\n      <td>US</td>\n      <td>Pittsburgh</td>\n      <td>PA</td>\n      <td>United States</td>\n      <td>[430 Wood St, Pittsburgh, PA 15222, United Sta...</td>\n      <td>NaN</td>\n      <td>NaN</td>\n      <td>4f32500719836c91c7cb5cde</td>\n    </tr>\n    <tr>\n      <th>148</th>\n      <td>brother's pizza</td>\n      <td>None</td>\n      <td>Benner pike</td>\n      <td>40.440394</td>\n      <td>-79.995415</td>\n      <td>[{'label': 'display', 'lat': 40.44039429610388...</td>\n      <td>474</td>\n      <td>NaN</td>\n      <td>US</td>\n      <td>Pittsburgh</td>\n      <td>PA</td>\n      <td>United States</td>\n      <td>[Benner pike, Pittsburgh, PA, United States]</td>\n      <td>NaN</td>\n      <td>NaN</td>\n      <td>4b2c4201f964a520c3c424e3</td>\n    </tr>\n    <tr>\n      <th>149</th>\n      <td>Papa Allen\u2019s Pizza</td>\n      <td>Pizza Place</td>\n      <td>107 Smithfield St</td>\n      <td>40.437496</td>\n      <td>-80.000564</td>\n      <td>[{'label': 'display', 'lat': 40.43749558533475...</td>\n      <td>1003</td>\n      <td>15222</td>\n      <td>US</td>\n      <td>Pittsburgh</td>\n      <td>PA</td>\n      <td>United States</td>\n      <td>[107 Smithfield St, Pittsburgh, PA 15222, Unit...</td>\n      <td>NaN</td>\n      <td>NaN</td>\n      <td>5d225ca8ca49b300231b1899</td>\n    </tr>\n  </tbody>\n</table>\n<p>150 rows \u00d7 16 columns</p>\n</div>"
                    },
                    "metadata": {}
                }
            ]
        },
        {
            "metadata": {},
            "cell_type": "code",
            "source": "",
            "execution_count": null,
            "outputs": []
        }
    ],
    "metadata": {
        "kernelspec": {
            "name": "python3",
            "display_name": "Python 3.7",
            "language": "python"
        },
        "language_info": {
            "name": "python",
            "version": "3.7.9",
            "mimetype": "text/x-python",
            "codemirror_mode": {
                "name": "ipython",
                "version": 3
            },
            "pygments_lexer": "ipython3",
            "nbconvert_exporter": "python",
            "file_extension": ".py"
        }
    },
    "nbformat": 4,
    "nbformat_minor": 1
}